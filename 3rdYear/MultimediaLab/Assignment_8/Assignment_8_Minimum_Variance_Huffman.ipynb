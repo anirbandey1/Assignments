{
 "cells": [
  {
   "cell_type": "markdown",
   "metadata": {},
   "source": [
    "# Assignment 8 - Multimedia Lab\n",
    "### Name - Anirban Dey\n",
    "### Roll - 002111001108"
   ]
  },
  {
   "cell_type": "markdown",
   "metadata": {},
   "source": [
    "## Minimum Variance Huffman Coding"
   ]
  },
  {
   "cell_type": "code",
   "execution_count": null,
   "metadata": {},
   "outputs": [],
   "source": [
    "from collections import Counter\n",
    "from typing import List,Tuple,Dict"
   ]
  },
  {
   "cell_type": "code",
   "execution_count": null,
   "metadata": {},
   "outputs": [],
   "source": [
    "class MinimumVarianceHuffman():\n",
    "    def __init__(self):\n",
    "        pass\n",
    "        \n",
    "    def encode(self,input_path:str, output_path:str):\n",
    "        data_list = self.getDataListFromFile(file_path=input_path)\n",
    "        prob_arr = self.generateProbablityTable(data_list)\n",
    "        code = self.generateMinimumVarianceHuffmanCode(prob_arr)\n",
    "\n",
    "\n",
    "    def getDataListFromFile(self,file_path:str)-> List[int]:\n",
    "        data_list : List[int] = []\n",
    "        with open(file_path,\"rb\") as f:\n",
    "        byte = f.read(1) # Read one byte at a time\n",
    "        while byte :\n",
    "            byte_num : int = ord(byte)\n",
    "            # print(byte_num)\n",
    "            data_list.append(byte_num)\n",
    "            byte = f.read(1)\n",
    "\n",
    "        print(\"Bytes stored in the file\")\n",
    "        print(data_list)\n",
    "        return data_list\n",
    "\n",
    "    def generateProbablityTable(self,data_list:List[int])->List[Tuple[int,float]]:\n",
    "        freq = Counter(data_list)\n",
    "        # print(freq)\n",
    "\n",
    "        # Converts dictionary to a list of tuples (key,value) pairs\n",
    "        # Infact freq.items() returns a dictitems which is a view of the dictionary not suitable for our purpose\n",
    "        # freqlist = freq.items()\n",
    "\n",
    "        freq_sum:int = 0\n",
    "        for key,val in freq.items():\n",
    "            freq_sum += val\n",
    "\n",
    "\n",
    "        prob_arr:List[Tuple[int,float]] = []\n",
    "        for key,val in freq.items():\n",
    "            prob_arr.append((key,val/freq_sum))\n",
    "        print(\"Probability Array\")\n",
    "        print(prob_arr)\n",
    "\n",
    "        # sort freqlist by the second element in the tuple which is\n",
    "        prob_arr.sort(key= lambda x : -x[1])\n",
    "\n",
    "        return prob_arr\n",
    "\n",
    "    def generateMinimumVarianceHuffmanCode(self,prob_arr:List[Tuple[int,float]])->Dict[int,str]:\n",
    "        code = {}\n",
    "        arr = [((el[0],),el[1]) for el in prob_arr ]\n",
    "        arr.sort(key= lambda x : (x[1],x[0]),reverse=True)\n",
    "        while len(arr) < 2*len(prob_arr)-2 : # atleast 2m-2 elements needed in the array\n",
    "            \n",
    "            start_ind = 0\n",
    "            if len(arr) % 2 == 1 : # odd length skip the first element\n",
    "                start_ind = 1\n",
    "\n",
    "            new_arr:List[Tuple[Tuple[int],float]] = []\n",
    "            for i in range(start_ind,len(arr),2):\n",
    "                # print(i,len(arr))\n",
    "                internal_node:Tuple[Tuple[int],float] = (arr[i][0]+arr[i+1][0], arr[i][1]+arr[i+1][1])\n",
    "                new_arr.append(internal_node)\n",
    "                print(new_arr)\n",
    "\n",
    "            arr.extend(new_arr)\n",
    "            arr.sort(key= lambda x : (x[1],x[0]),reverse=True)\n",
    "            print(len(arr),len(prob_arr))\n",
    "\n",
    "            \n",
    "        \n",
    "        print(arr)\n",
    "        return code\n"
   ]
  },
  {
   "cell_type": "code",
   "execution_count": null,
   "metadata": {},
   "outputs": [],
   "source": [
    "mvh = MinimumVarianceHuffman()\n",
    "mvh.encode(input_path=\"test_input.txt\",output_path=\"test_compressed_file.bin\")"
   ]
  }
 ],
 "metadata": {
  "kernelspec": {
   "display_name": ".venv",
   "language": "python",
   "name": "python3"
  },
  "language_info": {
   "codemirror_mode": {
    "name": "ipython",
    "version": 3
   },
   "file_extension": ".py",
   "mimetype": "text/x-python",
   "name": "python",
   "nbconvert_exporter": "python",
   "pygments_lexer": "ipython3",
   "version": "3.11.2"
  }
 },
 "nbformat": 4,
 "nbformat_minor": 2
}
