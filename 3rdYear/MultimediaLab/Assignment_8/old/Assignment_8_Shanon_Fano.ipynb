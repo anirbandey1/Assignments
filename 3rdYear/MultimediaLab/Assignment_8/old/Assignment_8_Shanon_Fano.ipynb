{
 "cells": [
  {
   "cell_type": "markdown",
   "metadata": {},
   "source": [
    "# Assignment 8 -  Multimedia Lab\n",
    "\n",
    "### Name - Anirban Dey\n",
    "### Roll - 002111001108"
   ]
  },
  {
   "cell_type": "code",
   "execution_count": 1,
   "metadata": {},
   "outputs": [],
   "source": [
    "from collections import defaultdict\n",
    "from typing import List,Tuple,Dict,Union"
   ]
  },
  {
   "cell_type": "code",
   "execution_count": 2,
   "metadata": {},
   "outputs": [],
   "source": [
    "class ShanonFano():\n",
    "    def __init__(self):\n",
    "        pass\n",
    "    def encode(self,input_path:str, output_path:str):\n",
    "        prob_arr:List[Tuple[int,float]] = self.generateProbablityTable(input_path)\n",
    "        shanon_code = self.generateShanonCode(prob_arr)\n",
    "    \n",
    "    def dfs(self,l:int, r:int, code:str, arr:List[Tuple[int,float]],shanon_code:Dict[int,str]) -> None:\n",
    "        # print(l,r,code,arr[l:r+1])\n",
    "\n",
    "        if l>r :\n",
    "            raise ValueError(f\"Left Index {l} should be <= Right index {r}\")\n",
    "\n",
    "        if l == r:\n",
    "            num:int = arr[l][0]\n",
    "            # print(\"Shanon Code Assigned : \" ,num,code)\n",
    "            shanon_code[num] = code\n",
    "            return\n",
    "\n",
    "        prob_sum : float = 0\n",
    "        \n",
    "        for i in range(l,r+1):\n",
    "            num,prob = arr[i]\n",
    "            prob_sum += prob\n",
    "\n",
    "        # print(\"Probability Sum for Current Range : \",prob_sum)\n",
    "\n",
    "        \"\"\" \n",
    "            In the following implmentation :\n",
    "            sum_prob_left >= sum_prob_right\n",
    "        \"\"\"\n",
    "        i:int = l # i starts from l not 0\n",
    "        cur_prob_sum:float = 0\n",
    "        while i < r: # i cannot become r as then there would not be any element in the right subarray\n",
    "            num,prob = arr[i]\n",
    "            cur_prob_sum += prob\n",
    "            if cur_prob_sum > prob_sum / 2 :\n",
    "                break\n",
    "            else :\n",
    "                if i+1<r :\n",
    "                    i+= 1\n",
    "\n",
    "        # print(\"Rightmost Index of Left Subarray : \",i)\n",
    "\n",
    "        # left subarray\n",
    "        self.dfs(l,i,code+\"0\",arr,shanon_code)\n",
    "        # right subarray\n",
    "        self.dfs(i+1,r,code+\"1\",arr,shanon_code)\n",
    "            \n",
    "    \n",
    "    def generateProbablityTable(self,file_path:str)->List[Tuple[int,float]]:\n",
    "\n",
    "        freq = defaultdict(int)\n",
    "\n",
    "        with open(file_path,\"rb\") as f:\n",
    "            byte = f.read(1) # Read one byte at a time\n",
    "            while byte :\n",
    "                byte_num : int = ord(byte)\n",
    "                # print(byte_num)\n",
    "                freq[byte_num] += 1\n",
    "                byte = f.read(1)\n",
    "\n",
    "        freq_sum:int = 0\n",
    "        for key,val in freq.items():\n",
    "            freq_sum += val\n",
    "\n",
    "\n",
    "        prob_arr:List[Tuple[int,float]] = []\n",
    "        for key,val in freq.items():\n",
    "            prob_arr.append((key,val/freq_sum))\n",
    "        print(\"Probability Array\")\n",
    "        print(prob_arr)\n",
    "\n",
    "        # sort freqlist by the second element in the tuple which is\n",
    "        prob_arr.sort(key= lambda x : -x[1])\n",
    "\n",
    "        return prob_arr\n",
    "\n",
    "    def generateShanonCode(self,prob_arr:List[Tuple[int,float]]):\n",
    "        shanon_code = {}\n",
    "        self.dfs(0,len(prob_arr)-1, \"\", prob_arr,shanon_code)\n",
    "        print(\"ShanonCode\")\n",
    "        print(shanon_code)\n",
    "        return shanon_code\n",
    "\n",
    "        \n",
    "\n"
   ]
  },
  {
   "cell_type": "code",
   "execution_count": 3,
   "metadata": {},
   "outputs": [
    {
     "name": "stdout",
     "output_type": "stream",
     "text": [
      "Probability Array\n",
      "[(101, 0.01819), (99, 0.01819), (104, 0.01819), (111, 0.01819), (32, 0.01819), (53, 0.29093), (52, 0.16362), (55, 0.43632), (10, 0.01818)]\n",
      "ShanonCode\n",
      "{55: '00', 53: '01', 52: '10', 101: '11000', 99: '11001', 104: '1101', 111: '11100', 32: '11101', 10: '1111'}\n"
     ]
    }
   ],
   "source": [
    "sf = ShanonFano()\n",
    "sf.encode(input_path=\"test_input.txt\",output_path=\"test_compressed_file.bin\")"
   ]
  },
  {
   "cell_type": "markdown",
   "metadata": {},
   "source": []
  }
 ],
 "metadata": {
  "kernelspec": {
   "display_name": ".venv",
   "language": "python",
   "name": "python3"
  },
  "language_info": {
   "codemirror_mode": {
    "name": "ipython",
    "version": 3
   },
   "file_extension": ".py",
   "mimetype": "text/x-python",
   "name": "python",
   "nbconvert_exporter": "python",
   "pygments_lexer": "ipython3",
   "version": "3.11.2"
  }
 },
 "nbformat": 4,
 "nbformat_minor": 2
}
